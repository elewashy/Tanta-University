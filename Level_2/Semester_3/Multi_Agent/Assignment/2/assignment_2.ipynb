{
 "cells": [
  {
   "cell_type": "markdown",
   "id": "3b5388b0",
   "metadata": {},
   "source": [
    "### Reflex Agent - Basic Condition-Action"
   ]
  },
  {
   "cell_type": "code",
   "execution_count": 5,
   "id": "3489d781",
   "metadata": {},
   "outputs": [
    {
     "name": "stdout",
     "output_type": "stream",
     "text": [
      "suck\n",
      "move\n"
     ]
    }
   ],
   "source": [
    "def reflex_agent(percept):\n",
    "    if percept == \"dirt\":\n",
    "        return \"suck\"\n",
    "    else:\n",
    "        return \"move\"\n",
    "\n",
    "# Test\n",
    "print(reflex_agent(\"dirt\"))\n",
    "print(reflex_agent(\"clean\"))"
   ]
  },
  {
   "cell_type": "markdown",
   "id": "5069c12c",
   "metadata": {},
   "source": [
    " ### Model-Based Reflex Agent - Tracks State"
   ]
  },
  {
   "cell_type": "code",
   "execution_count": 6,
   "id": "e059b755",
   "metadata": {},
   "outputs": [
    {
     "name": "stdout",
     "output_type": "stream",
     "text": [
      "suck\n",
      "move\n"
     ]
    }
   ],
   "source": [
    "class ModelBasedReflexAgent:\n",
    "    def __init__(self):\n",
    "        self.state = {}\n",
    "\n",
    "    def update_state(self, location, percept):\n",
    "        self.state[location] = percept\n",
    "\n",
    "    def act(self, location, percept):\n",
    "        self.update_state(location, percept)\n",
    "        if self.state[location] == \"dirt\":\n",
    "            return \"suck\"\n",
    "        else:\n",
    "            return \"move\"\n",
    "\n",
    "# Test\n",
    "agent = ModelBasedReflexAgent()\n",
    "print(agent.act(\"room1\", \"dirt\"))\n",
    "print(agent.act(\"room1\", \"clean\"))\n"
   ]
  },
  {
   "cell_type": "markdown",
   "id": "c2fe40c9",
   "metadata": {},
   "source": [
    "### Goal-Based Agent - Chooses Action to Reach a Goal"
   ]
  },
  {
   "cell_type": "code",
   "execution_count": 7,
   "id": "40833203",
   "metadata": {},
   "outputs": [
    {
     "name": "stdout",
     "output_type": "stream",
     "text": [
      "Actions to reach goal: ['move right', 'move right', 'move down', 'move down', 'move down']\n"
     ]
    }
   ],
   "source": [
    "class SmartGoalAgent:\n",
    "    def __init__(self, environment, goal):\n",
    "        self.environment = environment  # Could be used later for obstacles or map\n",
    "        self.goal = goal  # Target position (x, y)\n",
    "\n",
    "    def find_path(self, current_state):\n",
    "        \"\"\"\n",
    "        Plans a simple path from current state to goal.\n",
    "        This is a basic greedy method moving step-by-step toward the goal.\n",
    "        \"\"\"\n",
    "        path = []  # List of actions to reach the goal\n",
    "        x, y = current_state  # Current position\n",
    "        gx, gy = self.goal  # Goal position\n",
    "\n",
    "        while x != gx or y != gy:\n",
    "            if x < gx:\n",
    "                x += 1\n",
    "                path.append(\"move right\")\n",
    "            elif x > gx:\n",
    "                x -= 1\n",
    "                path.append(\"move left\")\n",
    "            elif y < gy:\n",
    "                y += 1\n",
    "                path.append(\"move down\")\n",
    "            elif y > gy:\n",
    "                y -= 1\n",
    "                path.append(\"move up\")\n",
    "\n",
    "        return path\n",
    "\n",
    "    def act(self, current_state):\n",
    "        \"\"\"\n",
    "        Decides what to do based on the current state.\n",
    "        If already at the goal, do nothing.\n",
    "        Otherwise, find and return the list of actions toward the goal.\n",
    "        \"\"\"\n",
    "        if current_state == self.goal:\n",
    "            return [\"do nothing\"]\n",
    "        else:\n",
    "            return self.find_path(current_state)\n",
    "\n",
    "# Example usage\n",
    "goal = (2, 3)  # The target position in a 2D grid\n",
    "agent = SmartGoalAgent(environment=None, goal=goal)\n",
    "\n",
    "# Starting from position (0, 0)\n",
    "actions = agent.act((0, 0))\n",
    "print(\"Actions to reach goal:\", actions)\n"
   ]
  },
  {
   "cell_type": "markdown",
   "id": "6b7d23a3",
   "metadata": {},
   "source": [
    "### Learning Agent"
   ]
  },
  {
   "cell_type": "code",
   "execution_count": 8,
   "id": "1d16372d",
   "metadata": {},
   "outputs": [
    {
     "name": "stdout",
     "output_type": "stream",
     "text": [
      "suck\n",
      "explore\n"
     ]
    }
   ],
   "source": [
    "class LearningAgent:\n",
    "    def __init__(self):\n",
    "        self.knowledge = {}\n",
    "\n",
    "    def learn(self, percept, action, reward):\n",
    "        self.knowledge[(percept, action)] = reward\n",
    "\n",
    "    def act(self, percept):\n",
    "        best_action = None\n",
    "        best_reward = float('-inf')\n",
    "        for (p, a), r in self.knowledge.items():\n",
    "            if p == percept and r > best_reward:\n",
    "                best_action = a\n",
    "                best_reward = r\n",
    "        return best_action if best_action else \"explore\"\n",
    "\n",
    "# Test\n",
    "agent = LearningAgent()\n",
    "agent.learn(\"dirt\", \"suck\", 10)\n",
    "agent.learn(\"dirt\", \"ignore\", -5)\n",
    "print(agent.act(\"dirt\"))\n",
    "print(agent.act(\"clean\"))\n"
   ]
  }
 ],
 "metadata": {
  "kernelspec": {
   "display_name": "Python 3",
   "language": "python",
   "name": "python3"
  },
  "language_info": {
   "codemirror_mode": {
    "name": "ipython",
    "version": 3
   },
   "file_extension": ".py",
   "mimetype": "text/x-python",
   "name": "python",
   "nbconvert_exporter": "python",
   "pygments_lexer": "ipython3",
   "version": "3.12.0"
  }
 },
 "nbformat": 4,
 "nbformat_minor": 5
}

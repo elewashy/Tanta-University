{
 "cells": [
  {
   "cell_type": "markdown",
   "id": "ea994eb1",
   "metadata": {},
   "source": [
    "### 1- Simple reflex agent"
   ]
  },
  {
   "cell_type": "code",
   "execution_count": 1,
   "id": "738659e5",
   "metadata": {},
   "outputs": [
    {
     "name": "stdout",
     "output_type": "stream",
     "text": [
      "Suck\n",
      "Right\n"
     ]
    }
   ],
   "source": [
    "def vacuum_agent (percept):\n",
    "    location, status = percept\n",
    "    if status == 'Dirty':\n",
    "        return 'Suck'\n",
    "    elif location == 'A':\n",
    "        return 'Right'\n",
    "    elif location == 'B':\n",
    "        return 'Left'\n",
    "\n",
    "print(vacuum_agent(('A', 'Dirty'))) # Output: Suck\n",
    "print(vacuum_agent(('A', 'Clean'))) # Output: Right"
   ]
  },
  {
   "cell_type": "markdown",
   "id": "47d36fcb",
   "metadata": {},
   "source": [
    "### 2- Agent Function Mapping Percepts to Actions"
   ]
  },
  {
   "cell_type": "code",
   "execution_count": 2,
   "id": "75ba6a10",
   "metadata": {},
   "outputs": [
    {
     "name": "stdout",
     "output_type": "stream",
     "text": [
      "['Suck', 'Right', 'Suck']\n"
     ]
    }
   ],
   "source": [
    "#List Comprehension\n",
    "percepts = [('A', 'Dirty'), ('A', 'Clean'), ('B', 'Dirty')]\n",
    "actions = [vacuum_agent(p) for p in percepts]\n",
    "print(actions)"
   ]
  },
  {
   "cell_type": "markdown",
   "id": "851ba97a",
   "metadata": {},
   "source": [
    "### 3- Model-Based Reflex Agent (with memory)"
   ]
  },
  {
   "cell_type": "code",
   "execution_count": 3,
   "id": "93748c3d",
   "metadata": {},
   "outputs": [
    {
     "name": "stdout",
     "output_type": "stream",
     "text": [
      "Suck\n",
      "Right\n",
      "NoOp\n"
     ]
    }
   ],
   "source": [
    "class ModelBasedVacuumAgent:\n",
    "    def __init__(self):\n",
    "        self.model = {'A': None, 'B': None}\n",
    "\n",
    "    def act(self, percept):\n",
    "        location, status = percept\n",
    "        self.model[location] = status\n",
    "        if status == 'Dirty':\n",
    "            return 'Suck'\n",
    "        elif self.model['A'] == 'Clean' and self.model['B'] == 'Clean':\n",
    "            return 'NoOp'\n",
    "        return 'Right' if location == 'A' else 'Left'\n",
    "\n",
    "agent = ModelBasedVacuumAgent()\n",
    "print(agent.act(('A', 'Dirty')))\n",
    "print(agent.act(('A', 'Clean')))\n",
    "print(agent.act(('B', 'Clean')))\n"
   ]
  },
  {
   "cell_type": "markdown",
   "id": "3e8c4f99",
   "metadata": {},
   "source": [
    "### 4- Rational Agent Using PEAS\n"
   ]
  },
  {
   "cell_type": "code",
   "execution_count": 4,
   "id": "2e09ed4a",
   "metadata": {},
   "outputs": [
    {
     "name": "stdout",
     "output_type": "stream",
     "text": [
      "PEAS Description for Self-Driving Taxi:\n",
      "Performance Measure: Safe driving, Fast arrival, Obey traffic rules, Passenger comfort, Maximize profit\n",
      "Environment: City roads, Traffic signals, Pedestrians, Passengers, Other vehicles\n",
      "Actuators: Steering, Accelerator, Brake, Signal lights, Horn\n",
      "Sensors: GPS, Cameras, LIDAR, Speedometer, Microphones\n"
     ]
    }
   ],
   "source": [
    "class PEAS:\n",
    "    def __init__(self, performance, environment, actuators, sensors):\n",
    "        self.performance = performance\n",
    "        self.environment = environment\n",
    "        self.actuators = actuators\n",
    "        self.sensors = sensors\n",
    "\n",
    "    def display(self):\n",
    "        print(\"PEAS Description for Self-Driving Taxi:\")\n",
    "        print(f\"Performance Measure: {', '.join(self.performance)}\")\n",
    "        print(f\"Environment: {', '.join(self.environment)}\")\n",
    "        print(f\"Actuators: {', '.join(self.actuators)}\")\n",
    "        print(f\"Sensors: {', '.join(self.sensors)}\")\n",
    "\n",
    "taxi_peas = PEAS(\n",
    "    performance=['Safe driving', 'Fast arrival', 'Obey traffic rules', 'Passenger comfort', 'Maximize profit'],\n",
    "    environment=['City roads', 'Traffic signals', 'Pedestrians', 'Passengers', 'Other vehicles'],\n",
    "    actuators=['Steering', 'Accelerator', 'Brake', 'Signal lights', 'Horn'],\n",
    "    sensors=['GPS', 'Cameras', 'LIDAR', 'Speedometer', 'Microphones']\n",
    ")\n",
    "\n",
    "taxi_peas.display()\n"
   ]
  },
  {
   "cell_type": "markdown",
   "id": "316c6ea0",
   "metadata": {},
   "source": [
    "### 5- Search for Rational Path in Egypt Map"
   ]
  },
  {
   "cell_type": "code",
   "execution_count": 5,
   "id": "f639875f",
   "metadata": {},
   "outputs": [
    {
     "name": "stdout",
     "output_type": "stream",
     "text": [
      "Cost Cairo -> Beni Suef -> Minya: 244\n",
      "Cost Giza -> Minya: 235\n"
     ]
    }
   ],
   "source": [
    "egypt_map = {\n",
    "    'Cairo': {'Giza': 10, 'Beni Suef': 124},\n",
    "    'Giza': {'Fayoum': 90, 'Cairo': 10},\n",
    "    'Fayoum': {'Minya': 145, 'Giza': 90},\n",
    "    'Beni Suef': {'Minya': 120, 'Cairo': 124},\n",
    "    'Minya': {'Assiut': 150, 'Fayoum': 145, 'Beni Suef': 120},\n",
    "    'Assiut': {'Sohag': 95, 'Minya': 150},\n",
    "    'Sohag': {'Assiut': 95}\n",
    "}\n",
    "\n",
    "# Function to calculate travel cost (total distance)\n",
    "def travel_cost(path):\n",
    "    cost = 0\n",
    "    # egypt_map['Cairo']['Beni Suef'] 124\n",
    "    # egypt_map['Beni Suef']['Minya'] 120\n",
    "    for i in range(len(path) - 1):\n",
    "        cost += egypt_map[path[i]][path[i+1]]\n",
    "    return cost\n",
    "\n",
    "# Test paths\n",
    "print(\"Cost Cairo -> Beni Suef -> Minya:\", travel_cost(['Cairo', 'Beni Suef', 'Minya']))\n",
    "print(\"Cost Giza -> Minya:\", travel_cost(['Giza', 'Fayoum', 'Minya'])) # Direct via same route\n"
   ]
  },
  {
   "cell_type": "markdown",
   "id": "d0008a0f",
   "metadata": {},
   "source": [
    "### 6- Agent with Increasing Autonomy"
   ]
  },
  {
   "cell_type": "code",
   "execution_count": 6,
   "id": "0019b2b5",
   "metadata": {},
   "outputs": [
    {
     "name": "stdout",
     "output_type": "stream",
     "text": [
      "Right\n",
      "Right\n",
      "{('A', 'Dirty'): 'Right', ('B', 'Clean'): 'Right'}\n"
     ]
    }
   ],
   "source": [
    "import random\n",
    "\n",
    "class LearningAgent:\n",
    "    def __init__(self):\n",
    "        self.experience = {}\n",
    "\n",
    "    def act(self, percept):\n",
    "        if percept not in self.experience:\n",
    "            self.experience[percept] = random.choice(['Left', 'Right', 'Suck'])\n",
    "        return self.experience[percept]\n",
    "\n",
    "agent = LearningAgent()\n",
    "print(agent.act(('A', 'Dirty')))\n",
    "print(agent.act(('B', 'Clean')))\n",
    "print(agent.experience) # Shows autonomy based on learned responses\n"
   ]
  },
  {
   "cell_type": "markdown",
   "id": "8c8fb9dc",
   "metadata": {},
   "source": [
    "### 7- Interactive English Tutor Agent (PEAS)"
   ]
  },
  {
   "cell_type": "code",
   "execution_count": 7,
   "id": "d93d23f2",
   "metadata": {},
   "outputs": [
    {
     "name": "stdout",
     "output_type": "stream",
     "text": [
      "Performance: [\"Student's score\"]\n",
      "Environment: ['Set of students']\n",
      "Actuators: ['Display', 'Voice', 'Suggestions']\n",
      "Sensors: ['Keyboard', 'Microphone']\n"
     ]
    }
   ],
   "source": [
    "PEAS_tutor = {\n",
    "    'Performance': [\"Student's score\"],\n",
    "    'Environment': [\"Set of students\"],\n",
    "    'Actuators': [\"Display\", \"Voice\", \"Suggestions\"],\n",
    "    'Sensors': [\"Keyboard\", \"Microphone\"]\n",
    "}\n",
    "\n",
    "for k, v in PEAS_tutor.items():\n",
    "    print(f\"{k}: {v}\")\n"
   ]
  },
  {
   "cell_type": "markdown",
   "id": "7763832f",
   "metadata": {},
   "source": [
    "### 8- Part-Picking Robot: Action Based on Camera Input"
   ]
  },
  {
   "cell_type": "code",
   "execution_count": 8,
   "id": "ac72d626",
   "metadata": {},
   "outputs": [
    {
     "name": "stdout",
     "output_type": "stream",
     "text": [
      "Place in Bin 1\n",
      "Place in Bin 2\n",
      "Reject\n"
     ]
    }
   ],
   "source": [
    "def part_picking_robot(part_type):\n",
    "    if part_type == 'Screw':\n",
    "        return 'Place in Bin 1'\n",
    "    elif part_type == 'Bolt':\n",
    "        return 'Place in Bin 2'\n",
    "    else:\n",
    "        return 'Reject'\n",
    "\n",
    "print(part_picking_robot('Screw'))\n",
    "print(part_picking_robot('Bolt'))\n",
    "print(part_picking_robot('Washer'))\n"
   ]
  },
  {
   "cell_type": "markdown",
   "id": "19f1e9aa",
   "metadata": {},
   "source": [
    "### 9- Autonomy Level Simulation"
   ]
  },
  {
   "cell_type": "code",
   "execution_count": 9,
   "id": "c36163df",
   "metadata": {},
   "outputs": [
    {
     "name": "stdout",
     "output_type": "stream",
     "text": [
      "Crawling Baby Autonomy Level: 0.5\n"
     ]
    }
   ],
   "source": [
    "class Agent:\n",
    "    def __init__(self, name):\n",
    "        self.name = name\n",
    "        self.autonomy = 0.0\n",
    "\n",
    "    def learn(self):\n",
    "        self.autonomy += 0.1\n",
    "\n",
    "agent = Agent(\"Crawling Baby\")\n",
    "for _ in range(5):\n",
    "    agent.learn()\n",
    "print(f\"{agent.name} Autonomy Level: {agent.autonomy}\")\n"
   ]
  }
 ],
 "metadata": {
  "kernelspec": {
   "display_name": "Python 3",
   "language": "python",
   "name": "python3"
  },
  "language_info": {
   "codemirror_mode": {
    "name": "ipython",
    "version": 3
   },
   "file_extension": ".py",
   "mimetype": "text/x-python",
   "name": "python",
   "nbconvert_exporter": "python",
   "pygments_lexer": "ipython3",
   "version": "3.12.0"
  }
 },
 "nbformat": 4,
 "nbformat_minor": 5
}
